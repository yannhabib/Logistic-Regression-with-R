{
  "nbformat": 4,
  "nbformat_minor": 0,
  "metadata": {
    "colab": {
      "provenance": [],
      "include_colab_link": true
    },
    "kernelspec": {
      "name": "python3",
      "display_name": "Python 3"
    },
    "language_info": {
      "name": "python"
    }
  },
  "cells": [
    {
      "cell_type": "markdown",
      "metadata": {
        "id": "view-in-github",
        "colab_type": "text"
      },
      "source": [
        "<a href=\"https://colab.research.google.com/github/yannhabib/Logistic-Regression-with-R/blob/main/Kopie_von_Jana_pred_ana_v6.ipynb\" target=\"_parent\"><img src=\"https://colab.research.google.com/assets/colab-badge.svg\" alt=\"Open In Colab\"/></a>"
      ]
    },
    {
      "cell_type": "code",
      "execution_count": null,
      "metadata": {
        "id": "ka1vpz1ub-5Y"
      },
      "outputs": [],
      "source": [
        "# import panda library to handle dataframes\n",
        "\n",
        "import pandas as pd"
      ]
    },
    {
      "cell_type": "code",
      "source": [
        "# import clean dataset\n",
        "\n",
        "df = pd.read_csv('predictive_analysis_data_clean.csv', sep = ';')"
      ],
      "metadata": {
        "colab": {
          "base_uri": "https://localhost:8080/"
        },
        "id": "otWsE58ZcPEI",
        "outputId": "ab5fdb74-ec39-4f85-aff3-3ccea45b6fba"
      },
      "execution_count": null,
      "outputs": [
        {
          "output_type": "stream",
          "name": "stderr",
          "text": [
            "<ipython-input-3-c44328592e2b>:3: DtypeWarning: Columns (6,8,20) have mixed types. Specify dtype option on import or set low_memory=False.\n",
            "  df = pd.read_csv('predictive_analysis_data_clean.csv', sep = ';')\n"
          ]
        }
      ]
    },
    {
      "cell_type": "code",
      "source": [
        "# view df columns\n",
        "\n",
        "df.columns"
      ],
      "metadata": {
        "colab": {
          "base_uri": "https://localhost:8080/"
        },
        "id": "rhxMvmZ_cWqj",
        "outputId": "df2b779d-9961-4b3e-cd6f-d8ece56c37e3"
      },
      "execution_count": null,
      "outputs": [
        {
          "output_type": "execute_result",
          "data": {
            "text/plain": [
              "Index(['company_name', 'status_label', 'year', 'Current assets',\n",
              "       'Cost of goods sold', 'Depreciation and amortization', 'EBITDA',\n",
              "       'Inventory', 'Net Income', 'Total Receivables', 'X8', 'X9', 'X10',\n",
              "       'X11', 'X12', 'X13', 'X14', 'X15', 'X16', 'X17', 'X18'],\n",
              "      dtype='object')"
            ]
          },
          "metadata": {},
          "execution_count": 4
        }
      ]
    },
    {
      "cell_type": "code",
      "source": [
        "# view data types\n",
        "\n",
        "print(df.dtypes)"
      ],
      "metadata": {
        "colab": {
          "base_uri": "https://localhost:8080/"
        },
        "id": "VtG8yXc1chMu",
        "outputId": "6f5ceb05-09a4-4981-a65a-4c2beff8234d"
      },
      "execution_count": null,
      "outputs": [
        {
          "output_type": "stream",
          "name": "stdout",
          "text": [
            "company_name                     object\n",
            "status_label                     object\n",
            "year                              int64\n",
            "Current assets                    int64\n",
            "Cost of goods sold               object\n",
            "Depreciation and amortization    object\n",
            "EBITDA                           object\n",
            "Inventory                        object\n",
            "Net Income                       object\n",
            "Total Receivables                object\n",
            "X8                                int64\n",
            "X9                                int64\n",
            "X10                               int64\n",
            "X11                              object\n",
            "X12                               int64\n",
            "X13                              object\n",
            "X14                               int64\n",
            "X15                               int64\n",
            "X16                               int64\n",
            "X17                               int64\n",
            "X18                              object\n",
            "dtype: object\n"
          ]
        }
      ]
    },
    {
      "cell_type": "code",
      "source": [
        "## convert object datatypes for numeric columns to numeric\n",
        "\n",
        "# list of columns to convert from object to int64\n",
        "columns_to_convert = ['Cost of goods sold', 'Depreciation and amortization', 'EBITDA',\n",
        "                      'Inventory', 'Net Income', 'Total Receivables', 'X11', 'X13', 'X18']\n",
        "\n",
        "# convert object columns to int64\n",
        "df[columns_to_convert] = df[columns_to_convert].apply(pd.to_numeric, errors='coerce', downcast='integer')\n",
        "\n",
        "# print the data types to confirm the conversion\n",
        "print(df.dtypes)"
      ],
      "metadata": {
        "colab": {
          "base_uri": "https://localhost:8080/"
        },
        "id": "_GRJq7MUckB8",
        "outputId": "fbdf770e-b8f6-4fe0-e2b0-40862db9265e"
      },
      "execution_count": null,
      "outputs": [
        {
          "output_type": "stream",
          "name": "stdout",
          "text": [
            "company_name                      object\n",
            "status_label                      object\n",
            "year                               int64\n",
            "Current assets                     int64\n",
            "Cost of goods sold               float64\n",
            "Depreciation and amortization    float64\n",
            "EBITDA                           float64\n",
            "Inventory                        float64\n",
            "Net Income                       float64\n",
            "Total Receivables                float64\n",
            "X8                                 int64\n",
            "X9                                 int64\n",
            "X10                                int64\n",
            "X11                              float64\n",
            "X12                                int64\n",
            "X13                              float64\n",
            "X14                                int64\n",
            "X15                                int64\n",
            "X16                                int64\n",
            "X17                                int64\n",
            "X18                              float64\n",
            "dtype: object\n"
          ]
        }
      ]
    },
    {
      "cell_type": "code",
      "source": [
        "## plot target variable and check for imbalancedness\n",
        "\n",
        "# import matplotlib library for ploting grpahs\n",
        "import matplotlib.pyplot as plt\n",
        "import seaborn as sns\n",
        "\n",
        "# count the occurrences of each category in the target variable\n",
        "target_counts = df['status_label'].value_counts()\n",
        "\n",
        "# plot the bar chart\n",
        "plt.figure(figsize=(8, 6))\n",
        "sns.barplot(x=target_counts.index, y=target_counts.values)\n",
        "plt.title('Distribution of Status Label')\n",
        "plt.xlabel('Status Label')\n",
        "plt.ylabel('Count')\n",
        "plt.show()\n",
        "\n",
        "\n",
        "# extremly imbalanced dataset"
      ],
      "metadata": {
        "colab": {
          "base_uri": "https://localhost:8080/",
          "height": 564
        },
        "id": "lMYsJV5See0x",
        "outputId": "414f4511-01e1-4641-c875-7ff93a3fa13c"
      },
      "execution_count": null,
      "outputs": [
        {
          "output_type": "display_data",
          "data": {
            "text/plain": [
              "<Figure size 800x600 with 1 Axes>"
            ],
            "image/png": "[encoded data removed]"
          },
          "metadata": {}
        }
      ]
    },
    {
      "cell_type": "code",
      "source": [
        "## naming columns consistently\n",
        "\n",
        "# creating a dictionary for the concerned columns\n",
        "renaming_dict = {\n",
        "    'Current assets': 'current_assets',\n",
        "    'Cost of goods sold': 'cost_of_goods_sold',\n",
        "    'Depreciation and amortization': 'depreciation_and_amortization',\n",
        "    'EBITDA': 'ebitda',\n",
        "    'Inventory': 'inventory',\n",
        "    'Net Income': 'net_income',\n",
        "    'Total Receivables': 'total_receivables',\n",
        "}"
      ],
      "metadata": {
        "id": "jjGxCrb3ftGp"
      },
      "execution_count": null,
      "outputs": []
    },
    {
      "cell_type": "code",
      "source": [
        "# rename the columns\n",
        "df.rename(columns=renaming_dict, inplace=True)\n",
        "df.columns"
      ],
      "metadata": {
        "colab": {
          "base_uri": "https://localhost:8080/"
        },
        "id": "ju7ZBTJ_f4Ge",
        "outputId": "a2c86937-b9ef-401c-f6ad-55cc0f4e70bd"
      },
      "execution_count": null,
      "outputs": [
        {
          "output_type": "execute_result",
          "data": {
            "text/plain": [
              "Index(['company_name', 'status_label', 'year', 'current_assets',\n",
              "       'cost_of_goods_sold', 'depreciation_and_amortization', 'ebitda',\n",
              "       'inventory', 'net_income', 'total_receivables', 'X8', 'X9', 'X10',\n",
              "       'X11', 'X12', 'X13', 'X14', 'X15', 'X16', 'X17', 'X18'],\n",
              "      dtype='object')"
            ]
          },
          "metadata": {},
          "execution_count": 10
        }
      ]
    },
    {
      "cell_type": "code",
      "source": [
        "## encoding target variable\n",
        "\n",
        "# import lable encoder from sklearn\n",
        "from sklearn.preprocessing import LabelEncoder\n",
        "\n",
        "# instantiate LabelEncoder\n",
        "label_encoder = LabelEncoder()\n",
        "\n",
        "# encode the values of status_label\n",
        "df['status_label_encoded'] = label_encoder.fit_transform(df['status_label'])\n",
        "\n",
        "# check the mapping of original categories to encoded values\n",
        "encoded_mapping = dict(zip(label_encoder.classes_, label_encoder.transform(label_encoder.classes_)))\n",
        "print(\"Encoded mapping:\", encoded_mapping)\n"
      ],
      "metadata": {
        "colab": {
          "base_uri": "https://localhost:8080/"
        },
        "id": "vpXU9WckibF4",
        "outputId": "06ca966f-831e-4dfa-bf84-eee0d374c551"
      },
      "execution_count": null,
      "outputs": [
        {
          "output_type": "stream",
          "name": "stdout",
          "text": [
            "Encoded mapping: {'alive': 0, 'failed': 1}\n"
          ]
        }
      ]
    },
    {
      "cell_type": "code",
      "source": [
        "# drop samples with missing values before applying SMOTE\n",
        "df_dropna = df.dropna()"
      ],
      "metadata": {
        "id": "upDpWVhcr74e"
      },
      "execution_count": null,
      "outputs": []
    },
    {
      "cell_type": "code",
      "source": [
        "# logistic regression formula\n",
        "\n",
        "formula = 'status_label_encoded ~ current_assets + cost_of_goods_sold + depreciation_and_amortization + ebitda + ' + \\\n",
        "          'inventory + net_income + total_receivables + X8 + X9 + X10 + X11 + X12 + X13 + X14 + X15 + X16 + X17 + X18'\n"
      ],
      "metadata": {
        "id": "xVgEOVRycwEx"
      },
      "execution_count": null,
      "outputs": []
    },
    {
      "cell_type": "code",
      "source": [
        "# fit model to dataset\n",
        "\n",
        "import statsmodels.formula.api as smf\n",
        "model = smf.logit(formula, data=df_dropna).fit()"
      ],
      "metadata": {
        "colab": {
          "base_uri": "https://localhost:8080/"
        },
        "id": "GOh5hryWhSl_",
        "outputId": "85122a5e-709f-4c86-ac71-e7051ab39089"
      },
      "execution_count": null,
      "outputs": [
        {
          "output_type": "stream",
          "name": "stdout",
          "text": [
            "Warning: Maximum number of iterations has been exceeded.\n",
            "         Current function value: inf\n",
            "         Iterations: 35\n"
          ]
        },
        {
          "output_type": "stream",
          "name": "stderr",
          "text": [
            "/usr/local/lib/python3.10/dist-packages/statsmodels/discrete/discrete_model.py:2385: RuntimeWarning: overflow encountered in exp\n",
            "  return 1/(1+np.exp(-X))\n",
            "/usr/local/lib/python3.10/dist-packages/statsmodels/discrete/discrete_model.py:2443: RuntimeWarning: divide by zero encountered in log\n",
            "  return np.sum(np.log(self.cdf(q * linpred)))\n",
            "/usr/local/lib/python3.10/dist-packages/statsmodels/base/model.py:607: ConvergenceWarning: Maximum Likelihood optimization failed to converge. Check mle_retvals\n",
            "  warnings.warn(\"Maximum Likelihood optimization failed to \"\n"
          ]
        }
      ]
    },
    {
      "cell_type": "code",
      "source": [
        "# print model summary\n",
        "\n",
        "print(model.summary())"
      ],
      "metadata": {
        "colab": {
          "base_uri": "https://localhost:8080/"
        },
        "id": "cV4lilrSsewF",
        "outputId": "fd4833e6-9316-4f4a-db16-2352da2c0e8d"
      },
      "execution_count": null,
      "outputs": [
        {
          "output_type": "stream",
          "name": "stdout",
          "text": [
            "                            Logit Regression Results                            \n",
            "================================================================================\n",
            "Dep. Variable:     status_label_encoded   No. Observations:                44981\n",
            "Model:                            Logit   Df Residuals:                    44962\n",
            "Method:                             MLE   Df Model:                           18\n",
            "Date:                  Sun, 02 Jun 2024   Pseudo R-squ.:                    -inf\n",
            "Time:                          22:01:31   Log-Likelihood:                   -inf\n",
            "converged:                        False   LL-Null:                       -11552.\n",
            "Covariance Type:              nonrobust   LLR p-value:                     1.000\n",
            "=================================================================================================\n",
            "                                    coef    std err          z      P>|z|      [0.025      0.975]\n",
            "-------------------------------------------------------------------------------------------------\n",
            "Intercept                        -2.3825      0.020   -116.237      0.000      -2.423      -2.342\n",
            "current_assets                -3.668e-07   5.96e-08     -6.160      0.000   -4.84e-07    -2.5e-07\n",
            "cost_of_goods_sold              8.81e+04      0.124   7.12e+05      0.000    8.81e+04    8.81e+04\n",
            "depreciation_and_amortization   3.34e+06      0.179   1.87e+07      0.000    3.34e+06    3.34e+06\n",
            "ebitda                        -3.761e+06        nan        nan        nan         nan         nan\n",
            "inventory                      2.263e-07   8.87e-08      2.551      0.011    5.24e-08       4e-07\n",
            "net_income                    -3.318e-08   1.53e-08     -2.174      0.030   -6.31e-08   -3.27e-09\n",
            "total_receivables              2.358e-08   9.23e-08      0.255      0.798   -1.57e-07    2.05e-07\n",
            "X8                            -1.393e-07   1.32e-08    -10.578      0.000   -1.65e-07   -1.13e-07\n",
            "X9                             1.177e+06      0.280    4.2e+06      0.000    1.18e+06    1.18e+06\n",
            "X10                            3.184e-09   1.87e-08      0.170      0.865   -3.35e-08    3.99e-08\n",
            "X11                            1.724e-08   2.75e-08      0.627      0.531   -3.67e-08    7.12e-08\n",
            "X12                             3.34e+06      0.179   1.87e+07      0.000    3.34e+06    3.34e+06\n",
            "X13                             8.81e+04      0.124   7.12e+05      0.000    8.81e+04    8.81e+04\n",
            "X14                            2.148e-07   4.95e-08      4.343      0.000    1.18e-07    3.12e-07\n",
            "X15                           -2.208e-08   7.41e-09     -2.978      0.003   -3.66e-08   -7.55e-09\n",
            "X16                           -8.441e+05      0.158  -5.33e+06      0.000   -8.44e+05   -8.44e+05\n",
            "X17                            9.927e-08   2.78e-08      3.577      0.000    4.49e-08    1.54e-07\n",
            "X18                           -4.208e+05      0.169  -2.49e+06      0.000   -4.21e+05   -4.21e+05\n",
            "=================================================================================================\n"
          ]
        }
      ]
    }
  ]
}