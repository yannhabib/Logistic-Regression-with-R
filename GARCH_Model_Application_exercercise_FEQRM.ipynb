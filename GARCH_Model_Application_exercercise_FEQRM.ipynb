{
  "nbformat": 4,
  "nbformat_minor": 0,
  "metadata": {
    "colab": {
      "provenance": [],
      "authorship_tag": "ABX9TyMkduhm81umfB3ySN5ZuhLj",
      "include_colab_link": true
    },
    "kernelspec": {
      "name": "python3",
      "display_name": "Python 3"
    },
    "language_info": {
      "name": "python"
    }
  },
  "cells": [
    {
      "cell_type": "markdown",
      "metadata": {
        "id": "view-in-github",
        "colab_type": "text"
      },
      "source": [
        "<a href=\"https://colab.research.google.com/github/yannhabib/Logistic-Regression-with-R/blob/main/GARCH_Model_Application_exercercise_FEQRM.ipynb\" target=\"_parent\"><img src=\"https://colab.research.google.com/assets/colab-badge.svg\" alt=\"Open In Colab\"/></a>"
      ]
    },
    {
      "cell_type": "code",
      "execution_count": 22,
      "metadata": {
        "colab": {
          "base_uri": "https://localhost:8080/"
        },
        "id": "-JmHYldjlPw0",
        "outputId": "1562d41c-1818-4857-a69e-51e10bc4039d"
      },
      "outputs": [
        {
          "output_type": "execute_result",
          "data": {
            "text/plain": [
              "['ht at t = 3511: 598.8730, sdt at t = 3511: 24.4719',\n",
              " 'ht at t = 3512: 594.5923, sdt at t = 3512: 24.3843',\n",
              " 'ht at t = 3513: 564.8923, sdt at t = 3513: 23.7675',\n",
              " 'ht at t = 3514: 553.2188, sdt at t = 3514: 23.5206',\n",
              " 'ht at t = 3515: 557.1834, sdt at t = 3515: 23.6047']"
            ]
          },
          "metadata": {},
          "execution_count": 22
        }
      ],
      "source": [
        "import math\n",
        "\n",
        "def calculate_ht(yt_values, h3510, t_values):\n",
        "    # Initialize the result list with the known value h3510\n",
        "    ht_values = [h3510]\n",
        "    sdt_values = [math.sqrt(h3510)]\n",
        "\n",
        "    # Loop through the t_values and calculate the corresponding ht\n",
        "    for t in t_values:\n",
        "        yt = yt_values[t_values.index(t)]  # Get the corresponding yt value for the current t\n",
        "        prev_ht = ht_values[-1]  # Get the previous ht value\n",
        "        # Calculate the new ht using the given formula\n",
        "        ht = 3.889 + 0.0487 * (yt ** 2) + 0.9424 * prev_ht\n",
        "        ht_values.append(ht)\n",
        "        sdt_values.append(math.sqrt(ht))\n",
        "\n",
        "    return ht_values[1:], sdt_values[1:]  # Exclude the initial h3510 value since it's already known\n",
        "\n",
        "# Given data\n",
        "yt_values = [-33.64, 23.25, 3.68, -18.67, 25.61]\n",
        "h3510_value = 572.87\n",
        "t_values_to_calculate = [3511, 3512, 3513, 3514, 3515]\n",
        "\n",
        "# Calculate ht and st values for the desired t values\n",
        "ht_values_calculated, sdt_values_calculated = calculate_ht(yt_values, h3510_value, t_values_to_calculate)\n",
        "\n",
        "# Print the results\n",
        "results = []\n",
        "for t, ht, sdt in zip(t_values_to_calculate, ht_values_calculated, sdt_values_calculated):\n",
        "    results.append(f\"ht at t = {t}: {ht:.4f}, sdt at t = {t}: {sdt:.4f}\")\n",
        "\n",
        "results\n",
        "\n",
        "\n"
      ]
    },
    {
      "cell_type": "code",
      "source": [
        "# computing VaR 5% for all ts\n",
        "Z = 1.645\n",
        "resulting = []\n",
        "for t, sdt in zip(t_values_to_calculate, sdt_values_calculated):\n",
        "    var = sdt * Z\n",
        "    resulting.append(f\"VaR at t = {t}: {var:.4f}\\n\")\n",
        "print(resulting)"
      ],
      "metadata": {
        "colab": {
          "base_uri": "https://localhost:8080/"
        },
        "id": "eRIPX1MsbZ-c",
        "outputId": "53dfae8c-de3a-4969-c2b4-018e1f77607f"
      },
      "execution_count": 23,
      "outputs": [
        {
          "output_type": "stream",
          "name": "stdout",
          "text": [
            "['VaR at t = 3511: 40.2562\\n', 'VaR at t = 3512: 40.1121\\n', 'VaR at t = 3513: 39.0975\\n', 'VaR at t = 3514: 38.6914\\n', 'VaR at t = 3515: 38.8298\\n']\n"
          ]
        }
      ]
    },
    {
      "cell_type": "code",
      "source": [
        "def calculate_ht(yt_values, h3510, t_values):\n",
        "    # Initialize the result list with the known value h3510\n",
        "    ht_values = [h3510]\n",
        "    sdt_values = [math.sqrt(h3510)]\n",
        "\n",
        "    # Loop through the t_values and calculate the corresponding ht\n",
        "    for t in t_values:\n",
        "        yt = yt_values[t_values.index(t)]  # Get the corresponding yt value for the current t\n",
        "        prev_ht = ht_values[-1]  # Get the previous ht value\n",
        "        # Calculate the new ht using the given formula\n",
        "        ht = 6.225 + 0.0391 * (abs(yt) - 0.4719 * yt) ** 2 + 0.9354 * prev_ht\n",
        "        ht_values.append(ht)\n",
        "        sdt_values.append(math.sqrt(ht))\n",
        "\n",
        "    return ht_values[1:], sdt_values[1:]  # Exclude the initial h3510 value since it's already known\n",
        "\n",
        "# Given data\n",
        "yt_values = [-33.64, 23.25, 3.68, -18.67, 25.61]\n",
        "h3510_value = 491.75\n",
        "t_values_to_calculate = [3511, 3512, 3513, 3514, 3515]\n",
        "\n",
        "# Calculate ht and st values for the desired t values\n",
        "ht_values_calculated, sdt_values_calculated = calculate_ht(yt_values, h3510_value, t_values_to_calculate)\n",
        "\n",
        "# Print the results\n",
        "results = []\n",
        "for t, ht, sdt in zip(t_values_to_calculate, ht_values_calculated, sdt_values_calculated):\n",
        "    results.append(f\"ht at t = {t}: {ht:.4f}, sdt at t = {t}: {sdt:.4f}\")\n",
        "\n",
        "results"
      ],
      "metadata": {
        "colab": {
          "base_uri": "https://localhost:8080/"
        },
        "id": "lSb5gkGebjpv",
        "outputId": "465df9be-ee8a-429a-9f67-7fcc3625392b"
      },
      "execution_count": 30,
      "outputs": [
        {
          "output_type": "execute_result",
          "data": {
            "text/plain": [
              "['ht at t = 3511: 562.0697, sdt at t = 3511: 23.7080',\n",
              " 'ht at t = 3512: 537.8796, sdt at t = 3512: 23.1922',\n",
              " 'ht at t = 3513: 509.5053, sdt at t = 3513: 22.5722',\n",
              " 'ht at t = 3514: 512.3434, sdt at t = 3514: 22.6350',\n",
              " 'ht at t = 3515: 492.6230, sdt at t = 3515: 22.1951']"
            ]
          },
          "metadata": {},
          "execution_count": 30
        }
      ]
    }
  ]
}